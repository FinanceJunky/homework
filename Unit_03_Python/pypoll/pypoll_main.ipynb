{
 "cells": [
  {
   "cell_type": "code",
   "execution_count": 1,
   "metadata": {},
   "outputs": [],
   "source": [
    "# Import Dependencies\n",
    "import pandas as pd"
   ]
  },
  {
   "cell_type": "code",
   "execution_count": 2,
   "metadata": {},
   "outputs": [],
   "source": [
    "# Create reference to CSV file\n",
    "pypoll_csv = \"Resources/election_data.csv\"\n",
    "# Import the CSV into a pandas DataFrame\n",
    "pypoll_df = pd.read_csv(pypoll_csv)"
   ]
  },
  {
   "cell_type": "code",
   "execution_count": 3,
   "metadata": {},
   "outputs": [],
   "source": [
    "# Add variables and lists\n",
    "#total_votes ="
   ]
  },
  {
   "cell_type": "code",
   "execution_count": 4,
   "metadata": {},
   "outputs": [
    {
     "name": "stdout",
     "output_type": "stream",
     "text": [
      "Election Results\n"
     ]
    }
   ],
   "source": [
    "print('Election Results')"
   ]
  },
  {
   "cell_type": "code",
   "execution_count": 5,
   "metadata": {},
   "outputs": [],
   "source": [
    "#file = open('pypoll_output.txt', 'a')\n",
    "#file.write('Election Results'+'\\n')\n",
    "#file.close()"
   ]
  },
  {
   "cell_type": "code",
   "execution_count": 6,
   "metadata": {},
   "outputs": [
    {
     "name": "stdout",
     "output_type": "stream",
     "text": [
      "****************************\n"
     ]
    }
   ],
   "source": [
    "print('****************************')"
   ]
  },
  {
   "cell_type": "code",
   "execution_count": 7,
   "metadata": {},
   "outputs": [],
   "source": [
    "#file = open('pypoll_output.txt', 'a')\n",
    "#file.write('****************************'+'\\n')\n",
    "#file.close()"
   ]
  },
  {
   "cell_type": "code",
   "execution_count": 8,
   "metadata": {},
   "outputs": [
    {
     "name": "stdout",
     "output_type": "stream",
     "text": [
      "Total Votes: 3521001\n"
     ]
    }
   ],
   "source": [
    "# Finding total votes\n",
    "total_votes = pypoll_df[\"Candidate\"].count()\n",
    "print(\"Total Votes: \"+f\"{total_votes}\")"
   ]
  },
  {
   "cell_type": "code",
   "execution_count": 9,
   "metadata": {},
   "outputs": [
    {
     "name": "stdout",
     "output_type": "stream",
     "text": [
      "****************************\n"
     ]
    }
   ],
   "source": [
    "print('****************************')"
   ]
  },
  {
   "cell_type": "code",
   "execution_count": 10,
   "metadata": {},
   "outputs": [],
   "source": [
    "#file = open('pypoll_output.txt', 'a')\n",
    "#file.write('****************************'+'\\n')\n",
    "#file.close()"
   ]
  },
  {
   "cell_type": "code",
   "execution_count": 11,
   "metadata": {},
   "outputs": [],
   "source": [
    "# making new DataFrame to keep original data intact\n",
    "pypoll_2_df = pypoll_df\n",
    "#"
   ]
  },
  {
   "cell_type": "code",
   "execution_count": 12,
   "metadata": {},
   "outputs": [],
   "source": [
    "# Setting Candidate column as index for use as a key\n",
    "pypoll_2_df = pypoll_2_df.set_index('Candidate')"
   ]
  },
  {
   "cell_type": "code",
   "execution_count": 13,
   "metadata": {},
   "outputs": [],
   "source": [
    "# Create Candidate DataFrames\n",
    "Khan_df = pypoll_2_df[pypoll_2_df.index == \"Khan\"]\n",
    "Correy_df = pypoll_2_df[pypoll_2_df.index == \"Correy\"]\n",
    "Li_df = pypoll_2_df[pypoll_2_df.index == \"Li\"]\n",
    "O_Tooley_df = pypoll_2_df[pypoll_2_df.index == \"O'Tooley\"]"
   ]
  },
  {
   "cell_type": "code",
   "execution_count": 14,
   "metadata": {},
   "outputs": [],
   "source": [
    "# Find number of votes cast per candidate\n",
    "khan_count = Khan_df[\"County\"].count()\n",
    "Correy_count = Correy_df[\"County\"].count()\n",
    "Li_count = Li_df[\"County\"].count()\n",
    "O_Tooley_count = O_Tooley_df[\"County\"].count()"
   ]
  },
  {
   "cell_type": "code",
   "execution_count": 15,
   "metadata": {},
   "outputs": [],
   "source": [
    "# Find percentage of votes cast per candidate\n",
    "khan_prct = khan_count / total_votes * 100\n",
    "correy_prct = Correy_count / total_votes * 100\n",
    "li_prct = Li_count / total_votes * 100\n",
    "o_tooley_prct = O_Tooley_count / total_votes * 100"
   ]
  },
  {
   "cell_type": "code",
   "execution_count": 16,
   "metadata": {},
   "outputs": [
    {
     "name": "stdout",
     "output_type": "stream",
     "text": [
      "Khan: 63.000% (2218231)\n",
      "Correy: 20.000% (704200)\n",
      "Li: 14.000% (492940)\n",
      "O'Tooley: 3.000% (105630)\n"
     ]
    }
   ],
   "source": [
    "# Printing results\n",
    "print(f'Khan: {\"%.3f\" % khan_prct}% ({khan_count})')\n",
    "print(f'Correy: {\"%.3f\" % correy_prct}% ({Correy_count})')\n",
    "print(f'Li: {\"%.3f\" % li_prct}% ({Li_count})')\n",
    "print(\"O'\"+f'Tooley: {\"%.3f\" % o_tooley_prct}% ({O_Tooley_count})')"
   ]
  },
  {
   "cell_type": "code",
   "execution_count": 17,
   "metadata": {},
   "outputs": [
    {
     "name": "stdout",
     "output_type": "stream",
     "text": [
      "****************************\n"
     ]
    }
   ],
   "source": [
    "print('****************************')"
   ]
  },
  {
   "cell_type": "code",
   "execution_count": 18,
   "metadata": {},
   "outputs": [],
   "source": [
    "#file = open('pypoll_output.txt', 'a')\n",
    "#file.write('****************************'+'\\n')\n",
    "#file.close()"
   ]
  },
  {
   "cell_type": "code",
   "execution_count": 19,
   "metadata": {},
   "outputs": [
    {
     "name": "stdout",
     "output_type": "stream",
     "text": [
      "Winner: Khan\n"
     ]
    }
   ],
   "source": [
    "#Finding the Winner\n",
    "if [khan_count > Correy_count & khan_count > Li_count & khan_count > O_Tooley_count]: \n",
    "    winner = ('Khan')\n",
    "    print(f'Winner: {winner}') \n",
    "elif [Correy_count > Li_count & Correy_count > O_Tooley_count]:\n",
    "    winner = ('Correy')\n",
    "    print(f'Winner: {winner}')\n",
    "elif [Li_count > O_Tooley_count]:\n",
    "    winner = ('Li')\n",
    "    print(f'Winner: {winner}')\n",
    "else:\n",
    "    winner = (\"O'Tooley\")\n",
    "    print(f\"Winner: {winner}\")"
   ]
  },
  {
   "cell_type": "code",
   "execution_count": 20,
   "metadata": {},
   "outputs": [
    {
     "name": "stdout",
     "output_type": "stream",
     "text": [
      "****************************\n"
     ]
    }
   ],
   "source": [
    "print('****************************')"
   ]
  },
  {
   "cell_type": "code",
   "execution_count": 21,
   "metadata": {},
   "outputs": [],
   "source": [
    "#file = open('pypoll_output.txt', 'a')\n",
    "#file.write('****************************'+'\\n')\n",
    "#file.close()"
   ]
  },
  {
   "cell_type": "code",
   "execution_count": 22,
   "metadata": {},
   "outputs": [],
   "source": [
    "# Writing output to text\n",
    "file = open('pypoll_output.txt', 'a')\n",
    "file.write('Election Results'+'\\n')\n",
    "file.write('****************************'+'\\n')\n",
    "file.write(\"Total Votes: \"+f\"{total_votes}\"+'\\n')\n",
    "file.write('****************************'+'\\n')\n",
    "file.write(f'Khan: {\"%.3f\" % khan_prct}% ({khan_count})'+'\\n')\n",
    "file.write(f'Correy: {\"%.3f\" % correy_prct}% ({Correy_count})'+'\\n')\n",
    "file.write(f'Li: {\"%.3f\" % li_prct}% ({Li_count})'+'\\n')\n",
    "file.write(\"O'\"+f'Tooley: {\"%.3f\" % o_tooley_prct}% ({O_Tooley_count})'+'\\n')\n",
    "file.write('****************************'+'\\n')\n",
    "file.write(f'Winner: {winner}'+'\\n')\n",
    "file.write('****************************'+'\\n')\n",
    "file.close()"
   ]
  }
 ],
 "metadata": {
  "kernelspec": {
   "display_name": "Python 3",
   "language": "python",
   "name": "python3"
  },
  "language_info": {
   "codemirror_mode": {
    "name": "ipython",
    "version": 3
   },
   "file_extension": ".py",
   "mimetype": "text/x-python",
   "name": "python",
   "nbconvert_exporter": "python",
   "pygments_lexer": "ipython3",
   "version": "3.7.3"
  }
 },
 "nbformat": 4,
 "nbformat_minor": 2
}
