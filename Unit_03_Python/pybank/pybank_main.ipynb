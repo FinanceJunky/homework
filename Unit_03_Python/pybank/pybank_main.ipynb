{
 "cells": [
  {
   "cell_type": "code",
   "execution_count": 1,
   "metadata": {},
   "outputs": [],
   "source": [
    "# Import Dependencies\n",
    "import pandas as pd"
   ]
  },
  {
   "cell_type": "code",
   "execution_count": 2,
   "metadata": {},
   "outputs": [],
   "source": [
    "temp = int\n",
    "profit = []\n",
    "change = []"
   ]
  },
  {
   "cell_type": "code",
   "execution_count": 3,
   "metadata": {},
   "outputs": [],
   "source": [
    "# Create reference to CSV file\n",
    "pybank_csv = \"Resources/budget_data.csv\"\n",
    "# Import the CSV into a pandas DataFrame\n",
    "pybank_df = pd.read_csv(pybank_csv)"
   ]
  },
  {
   "cell_type": "code",
   "execution_count": 4,
   "metadata": {},
   "outputs": [],
   "source": [
    "file = open('pybank_output.txt', 'a')"
   ]
  },
  {
   "cell_type": "code",
   "execution_count": 5,
   "metadata": {},
   "outputs": [
    {
     "name": "stdout",
     "output_type": "stream",
     "text": [
      "Financial Analysis\n"
     ]
    }
   ],
   "source": [
    "print('Financial Analysis')"
   ]
  },
  {
   "cell_type": "code",
   "execution_count": 6,
   "metadata": {},
   "outputs": [],
   "source": [
    "file = open('pybank_output.txt', 'a')\n",
    "file.write('Financial Analysis'+'\\n')\n",
    "file.close()"
   ]
  },
  {
   "cell_type": "code",
   "execution_count": 7,
   "metadata": {},
   "outputs": [
    {
     "name": "stdout",
     "output_type": "stream",
     "text": [
      "****************************\n"
     ]
    }
   ],
   "source": [
    "print('****************************')"
   ]
  },
  {
   "cell_type": "code",
   "execution_count": 8,
   "metadata": {},
   "outputs": [],
   "source": [
    "file = open('pybank_output.txt', 'a')\n",
    "file.write('****************************'+'\\n')\n",
    "file.close()"
   ]
  },
  {
   "cell_type": "code",
   "execution_count": 9,
   "metadata": {},
   "outputs": [
    {
     "name": "stdout",
     "output_type": "stream",
     "text": [
      "The total number of months in the dataset is 86.\n"
     ]
    }
   ],
   "source": [
    "# Finding the total number of months\n",
    "duration = pybank_df[\"Date\"].count()\n",
    "print(f\"The total number of months in the dataset is {duration}.\")"
   ]
  },
  {
   "cell_type": "code",
   "execution_count": 10,
   "metadata": {},
   "outputs": [],
   "source": [
    "file = open('pybank_output.txt', 'a')\n",
    "file.write(f'The total number of months in the dataset is {duration}.'+'\\n')\n",
    "file.close()"
   ]
  },
  {
   "cell_type": "code",
   "execution_count": 11,
   "metadata": {},
   "outputs": [
    {
     "name": "stdout",
     "output_type": "stream",
     "text": [
      "The total profit for these months is $38382578\n"
     ]
    }
   ],
   "source": [
    "# Finding the Total Profit\n",
    "total_profit = pybank_df[\"Profit/Losses\"].sum()\n",
    "print(f\"The total profit for these months is ${total_profit}\")"
   ]
  },
  {
   "cell_type": "code",
   "execution_count": 12,
   "metadata": {},
   "outputs": [],
   "source": [
    "file = open('pybank_output.txt', 'a')\n",
    "file.write(f\"The total profit for these months is ${total_profit}\"+'\\n')\n",
    "file.close()"
   ]
  },
  {
   "cell_type": "code",
   "execution_count": 13,
   "metadata": {},
   "outputs": [],
   "source": [
    "# making new DataFrame to keep original data intact\n",
    "change_df = pybank_df[[\"Date\", \"Profit/Losses\"]]"
   ]
  },
  {
   "cell_type": "code",
   "execution_count": 14,
   "metadata": {},
   "outputs": [],
   "source": [
    "# making a list for manipulation and calculation\n",
    "profit = change_df[\"Profit/Losses\"]"
   ]
  },
  {
   "cell_type": "code",
   "execution_count": 15,
   "metadata": {},
   "outputs": [
    {
     "name": "stdout",
     "output_type": "stream",
     "text": [
      "\n"
     ]
    }
   ],
   "source": [
    "# Looping to make new list with monthly changes\n",
    "for k,v in profit.items():\n",
    "    temp = change_df.iloc[k,1] - change_df.iloc[k - 1,1]\n",
    "    change.append(temp)\n",
    "#Remove unwanted values from list\n",
    "change.pop(0)\n",
    "print('')"
   ]
  },
  {
   "cell_type": "code",
   "execution_count": 16,
   "metadata": {},
   "outputs": [
    {
     "name": "stdout",
     "output_type": "stream",
     "text": [
      "Average Change: $-2315.1176470588234\n"
     ]
    }
   ],
   "source": [
    "# Finding Average monthly change\n",
    "average_change = sum(change) / len(change)\n",
    "print(f\"Average Change: ${average_change}\")"
   ]
  },
  {
   "cell_type": "code",
   "execution_count": 17,
   "metadata": {},
   "outputs": [],
   "source": [
    "file = open('pybank_output.txt', 'a')\n",
    "file.write(f\"Average Change: ${average_change}\"+'\\n')\n",
    "file.close()"
   ]
  },
  {
   "cell_type": "code",
   "execution_count": 18,
   "metadata": {},
   "outputs": [
    {
     "name": "stdout",
     "output_type": "stream",
     "text": [
      "Greatest Increase in Profits: Feb-2012 ($1926159)\n"
     ]
    }
   ],
   "source": [
    "# Finding greatest increase in profits\n",
    "max_value = max(change)\n",
    "max_index = change.index(max_value)\n",
    "print(f\"Greatest Increase in Profits: {change_df.iloc[max_index+1,0]} (${max_value})\")"
   ]
  },
  {
   "cell_type": "code",
   "execution_count": 19,
   "metadata": {},
   "outputs": [],
   "source": [
    "file = open('pybank_output.txt', 'a')\n",
    "file.write(f\"Greatest Increase in Profits: {change_df.iloc[max_index+1,0]} (${max_value})\"+'\\n')\n",
    "file.close()"
   ]
  },
  {
   "cell_type": "code",
   "execution_count": 20,
   "metadata": {},
   "outputs": [
    {
     "name": "stdout",
     "output_type": "stream",
     "text": [
      "Greatest Decrease in Profits: Sep-2013 ($-2196167)\n"
     ]
    }
   ],
   "source": [
    "# Finding greatest decrease in profits\n",
    "min_value = min(change)\n",
    "min_index = change.index(min_value)\n",
    "print(f\"Greatest Decrease in Profits: {change_df.iloc[min_index+1,0]} (${min_value})\")"
   ]
  },
  {
   "cell_type": "code",
   "execution_count": 21,
   "metadata": {},
   "outputs": [],
   "source": [
    "file = open('pybank_output.txt', 'a')\n",
    "file.write(f\"Greatest Decrease in Profits: {change_df.iloc[min_index+1,0]} (${min_value})\"+'\\n')\n",
    "file.close()"
   ]
  }
 ],
 "metadata": {
  "kernelspec": {
   "display_name": "Python 3",
   "language": "python",
   "name": "python3"
  },
  "language_info": {
   "codemirror_mode": {
    "name": "ipython",
    "version": 3
   },
   "file_extension": ".py",
   "mimetype": "text/x-python",
   "name": "python",
   "nbconvert_exporter": "python",
   "pygments_lexer": "ipython3",
   "version": "3.7.3"
  }
 },
 "nbformat": 4,
 "nbformat_minor": 2
}
