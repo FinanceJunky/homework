{
 "cells": [
  {
   "cell_type": "code",
   "execution_count": 1,
   "metadata": {},
   "outputs": [
    {
     "data": {
      "text/plain": [
       "'\\nCreated on Sat Jan 19 14:24:00 2019\\n\\n@author: ABooth\\n\\nScrapes Legacy and Current MLB Prospect Watch\\n'"
      ]
     },
     "execution_count": 1,
     "metadata": {},
     "output_type": "execute_result"
    }
   ],
   "source": [
    "\"\"\"\n",
    "Created on Sat Jan 19 14:24:00 2019\n",
    "\n",
    "@author: ABooth\n",
    "\n",
    "Scrapes Legacy and Current MLB Prospect Watch\n",
    "\"\"\""
   ]
  },
  {
   "cell_type": "code",
   "execution_count": 2,
   "metadata": {},
   "outputs": [],
   "source": [
    "#Imports\n",
    "from bs4 import BeautifulSoup\n",
    "from splinter import Browser\n",
    "import re\n",
    "import pandas as pd"
   ]
  },
  {
   "cell_type": "code",
   "execution_count": 6,
   "metadata": {},
   "outputs": [],
   "source": [
    "#Constants\n",
    "chromiumPath = r\"C:\\Users\\abooth\\Documents\\chromedriver_win32\\chromedriver.exe\"\n",
    "\n",
    "#Inits\n",
    "mlbId = []\n",
    "playerName = []\n",
    "playerPos = []\n",
    "playerRank = []\n",
    "playerTeam = []\n",
    "yearList = []"
   ]
  },
  {
   "cell_type": "code",
   "execution_count": 7,
   "metadata": {},
   "outputs": [],
   "source": [
    "#Legacy Pages\n",
    "years = range(2011,2015)\n",
    "for year in years: \n",
    "    #MLB url to scrape\n",
    "    url = \"http://mlb.mlb.com/mlb/prospects/watch/y%s/#list=prospects\"%year\n",
    "    executable_path = {'executable_path': chromiumPath}\n",
    "    browser = Browser('chrome', **executable_path, headless=True)\n",
    "    browser.visit(url)\n",
    "    \n",
    "    #Soupify\n",
    "    html = browser.html\n",
    "    soup = BeautifulSoup(html, 'lxml')\n",
    "    \n",
    "    #Get player rankings list\n",
    "    playerList = soup.find_all(\"div\", {\"class\" : \"player\"})\n",
    "    \n",
    "    #parse data\n",
    "    for player in playerList:\n",
    "        mlbId.append(player[\"name\"])    \n",
    "        playerName.append(player.find(\"div\", {\"class\" : re.compile(r\"name first.*\")}).text + \" \" + player.find(\"div\", {\"class\" : \"name last\"}).text)\n",
    "        playerPos.append(player.find(\"div\", {\"class\" : \"position\"}).text)\n",
    "        playerRank.append(player.find(\"div\", {\"class\" : \"rank\"}).text)\n",
    "        yearList.append(year)"
   ]
  },
  {
   "cell_type": "code",
   "execution_count": 8,
   "metadata": {},
   "outputs": [
    {
     "data": {
      "text/plain": [
       "250"
      ]
     },
     "execution_count": 8,
     "metadata": {},
     "output_type": "execute_result"
    }
   ],
   "source": [
    "len(mlbId) #250"
   ]
  },
  {
   "cell_type": "code",
   "execution_count": 13,
   "metadata": {},
   "outputs": [],
   "source": [
    "#Current Pages\n",
    "years = range(2015,2020)\n",
    "for year in years:\n",
    "    #MLB url to scrape\n",
    "    url = \"http://m.mlb.com/prospects/%s?list=prospects\"%year\n",
    "    executable_path = {'executable_path': chromiumPath}\n",
    "    browser = Browser('chrome', **executable_path, headless=True)\n",
    "    browser.visit(url)\n",
    "    \n",
    "    #Soupify\n",
    "    html = browser.html\n",
    "    soup = BeautifulSoup(html, 'lxml')\n",
    "    \n",
    "    #Get player rankings list\n",
    "    playerList = soup.find_all(\"a\", {\"data-player-id\" : re.compile(r\".*\")})\n",
    "    \n",
    "    #parse data\n",
    "    for player in playerList:\n",
    "        mlbId.append(player[\"data-player-id\"])\n",
    "        playerName.append(player.find(\"div\", {\"class\" : \"player-name\"}).text)\n",
    "        playerPos.append(player.find(\"div\", {\"class\" : \"player-info\"}).text)\n",
    "        playerRank.append(player.find(\"div\", {\"class\" : \"number\"}).text)\n",
    "        yearList.append(year)"
   ]
  },
  {
   "cell_type": "code",
   "execution_count": 14,
   "metadata": {},
   "outputs": [
    {
     "data": {
      "text/html": [
       "<div>\n",
       "<style scoped>\n",
       "    .dataframe tbody tr th:only-of-type {\n",
       "        vertical-align: middle;\n",
       "    }\n",
       "\n",
       "    .dataframe tbody tr th {\n",
       "        vertical-align: top;\n",
       "    }\n",
       "\n",
       "    .dataframe thead th {\n",
       "        text-align: right;\n",
       "    }\n",
       "</style>\n",
       "<table border=\"1\" class=\"dataframe\">\n",
       "  <thead>\n",
       "    <tr style=\"text-align: right;\">\n",
       "      <th></th>\n",
       "      <th>Year</th>\n",
       "      <th>PlayerRank</th>\n",
       "      <th>MlbId</th>\n",
       "      <th>PlayerName</th>\n",
       "      <th>PlayerPos</th>\n",
       "    </tr>\n",
       "  </thead>\n",
       "  <tbody>\n",
       "    <tr>\n",
       "      <th>0</th>\n",
       "      <td>2011</td>\n",
       "      <td>1</td>\n",
       "      <td>545361</td>\n",
       "      <td>Mike Trout</td>\n",
       "      <td>OF</td>\n",
       "    </tr>\n",
       "    <tr>\n",
       "      <th>1</th>\n",
       "      <td>2011</td>\n",
       "      <td>2</td>\n",
       "      <td>547180</td>\n",
       "      <td>Bryce Harper</td>\n",
       "      <td>OF</td>\n",
       "    </tr>\n",
       "    <tr>\n",
       "      <th>2</th>\n",
       "      <td>2011</td>\n",
       "      <td>3</td>\n",
       "      <td>519043</td>\n",
       "      <td>Matt Moore</td>\n",
       "      <td>LHP</td>\n",
       "    </tr>\n",
       "    <tr>\n",
       "      <th>3</th>\n",
       "      <td>2011</td>\n",
       "      <td>4</td>\n",
       "      <td>527054</td>\n",
       "      <td>Julio Teheran</td>\n",
       "      <td>RHP</td>\n",
       "    </tr>\n",
       "    <tr>\n",
       "      <th>4</th>\n",
       "      <td>2011</td>\n",
       "      <td>5</td>\n",
       "      <td>571946</td>\n",
       "      <td>Shelby Miller</td>\n",
       "      <td>RHP</td>\n",
       "    </tr>\n",
       "  </tbody>\n",
       "</table>\n",
       "</div>"
      ],
      "text/plain": [
       "   Year PlayerRank   MlbId     PlayerName PlayerPos\n",
       "0  2011          1  545361     Mike Trout        OF\n",
       "1  2011          2  547180   Bryce Harper        OF\n",
       "2  2011          3  519043     Matt Moore       LHP\n",
       "3  2011          4  527054  Julio Teheran       RHP\n",
       "4  2011          5  571946  Shelby Miller       RHP"
      ]
     },
     "execution_count": 14,
     "metadata": {},
     "output_type": "execute_result"
    }
   ],
   "source": [
    "#Turn to dataframe and write CSV\n",
    "df = pd.DataFrame(\n",
    "        {\"Year\" : yearList,\n",
    "         \"PlayerRank\": playerRank,\n",
    "         \"MlbId\": mlbId,\n",
    "         \"PlayerName\": playerName,\n",
    "         \"PlayerPos\": playerPos\n",
    "        })\n",
    "#df.to_csv(\"C:/Users/abooth/Documents/Data/Top100/MLB/mlbTop100Prospects_2011-2018.csv\", index=False)\n",
    "df.head()\n",
    "#Fin"
   ]
  },
  {
   "cell_type": "code",
   "execution_count": 1,
   "metadata": {},
   "outputs": [
    {
     "ename": "NameError",
     "evalue": "name 'df' is not defined",
     "output_type": "error",
     "traceback": [
      "\u001b[1;31m---------------------------------------------------------------------------\u001b[0m",
      "\u001b[1;31mNameError\u001b[0m                                 Traceback (most recent call last)",
      "\u001b[1;32m<ipython-input-1-9e112543b788>\u001b[0m in \u001b[0;36m<module>\u001b[1;34m()\u001b[0m\n\u001b[1;32m----> 1\u001b[1;33m \u001b[0mlen\u001b[0m\u001b[1;33m(\u001b[0m\u001b[0mdf\u001b[0m\u001b[1;33m)\u001b[0m\u001b[1;33m\u001b[0m\u001b[0m\n\u001b[0m",
      "\u001b[1;31mNameError\u001b[0m: name 'df' is not defined"
     ]
    }
   ],
   "source": [
    "len(df)"
   ]
  },
  {
   "cell_type": "code",
   "execution_count": null,
   "metadata": {},
   "outputs": [],
   "source": []
  }
 ],
 "metadata": {
  "kernelspec": {
   "display_name": "Python 3",
   "language": "python",
   "name": "python3"
  },
  "language_info": {
   "codemirror_mode": {
    "name": "ipython",
    "version": 3
   },
   "file_extension": ".py",
   "mimetype": "text/x-python",
   "name": "python",
   "nbconvert_exporter": "python",
   "pygments_lexer": "ipython3",
   "version": "3.6.9"
  }
 },
 "nbformat": 4,
 "nbformat_minor": 2
}
